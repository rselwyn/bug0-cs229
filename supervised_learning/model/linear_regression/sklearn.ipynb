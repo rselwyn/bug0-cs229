{
 "cells": [
  {
   "cell_type": "code",
   "execution_count": 1,
   "id": "10ea30d9",
   "metadata": {},
   "outputs": [],
   "source": [
    "from sklearn.decomposition import TruncatedSVD\n",
    "from sklearn.linear_model import ElasticNet, LinearRegression\n",
    "from sklearn.svm import SVR\n",
    "from sklearn.tree import DecisionTreeRegressor\n",
    "from sklearn.ensemble import RandomForestRegressor\n",
    "import pickle\n",
    "from os import path\n",
    "import sys\n",
    "sys.path.append(\"../..\")\n",
    "import util\n",
    "import tqdm\n",
    "import numpy as np\n",
    "import time"
   ]
  },
  {
   "cell_type": "code",
   "execution_count": 2,
   "id": "961e5de4",
   "metadata": {},
   "outputs": [],
   "source": [
    "DATA_DIR = \"../../../../data/bughouse-db\""
   ]
  },
  {
   "cell_type": "code",
   "execution_count": 3,
   "id": "3ec04719",
   "metadata": {},
   "outputs": [],
   "source": [
    "filename = \"export2018\"\n",
    "file = path.join(DATA_DIR, \"bpgn\", f\"{filename}.bpgn\")\n",
    "filepath = path.join(DATA_DIR, \"pk\", f\"{filename}.pk\")"
   ]
  },
  {
   "cell_type": "code",
   "execution_count": 4,
   "id": "2896170d",
   "metadata": {
    "lines_to_next_cell": 1
   },
   "outputs": [],
   "source": [
    "def print_insights(reg, X, y, label=\"\"):\n",
    "    preds = reg.predict(X)\n",
    "    print(f\"{label} predictions: min = {np.min(preds)}, max = {np.max(preds)}, mean = {np.mean(preds)}, mean diff from mean: {np.mean(preds - np.mean(preds))}\")\n",
    "    score = reg.score(X, y)\n",
    "    rmse = np.sqrt(np.mean((preds - y) ** 2))\n",
    "    print(f\"{label}: score = {score}, RMSE = {rmse}\")"
   ]
  },
  {
   "cell_type": "code",
   "execution_count": 5,
   "id": "31f265b1",
   "metadata": {
    "lines_to_next_cell": 1
   },
   "outputs": [],
   "source": [
    "def save_model(model, save_path):\n",
    "    with open(save_path, 'wb') as f:\n",
    "        pickle.dump(model, f)"
   ]
  },
  {
   "cell_type": "code",
   "execution_count": 6,
   "id": "e59fb999",
   "metadata": {},
   "outputs": [
    {
     "name": "stdout",
     "output_type": "stream",
     "text": [
      "Loading dataset\n"
     ]
    }
   ],
   "source": [
    "print(\"Loading dataset\")\n",
    "with open(filepath, 'rb') as f:\n",
    "    data_dict = pickle.load(f)"
   ]
  },
  {
   "cell_type": "code",
   "execution_count": null,
   "id": "1ee5bb1e",
   "metadata": {},
   "outputs": [
    {
     "name": "stdout",
     "output_type": "stream",
     "text": [
      "Processing dataset\n"
     ]
    },
    {
     "name": "stderr",
     "output_type": "stream",
     "text": [
      " 13%|████████▉                                                            | 64801/500000 [00:32<03:35, 2018.52it/s]"
     ]
    }
   ],
   "source": [
    "print(\"Processing dataset\")\n",
    "states, values = util.dataset_to_array(data_dict, tqdm.tqdm, max_n=500000)\n",
    "print(f\"Dataset memory: {sys.getsizeof(states) / 1048576} mb\")"
   ]
  },
  {
   "cell_type": "code",
   "execution_count": null,
   "id": "ca921b16",
   "metadata": {},
   "outputs": [],
   "source": [
    "split_n = int(0.85 * states.shape[0])\n",
    "indices = np.random.permutation(states.shape[0])\n",
    "training_idx, test_idx = indices[:split_n], indices[split_n:]\n",
    "X_train, X_test = states[training_idx, :], states[test_idx, :]\n",
    "y_train, y_test = values[training_idx], values[test_idx]"
   ]
  },
  {
   "cell_type": "code",
   "execution_count": null,
   "id": "fbb6044e",
   "metadata": {},
   "outputs": [],
   "source": [
    "t = time.time()\n",
    "print(\"Fitting linear regression\")\n",
    "reg = LinearRegression().fit(X_train, y_train)\n",
    "print(f\"Time taken: {time.time() - t}\")"
   ]
  },
  {
   "cell_type": "code",
   "execution_count": null,
   "id": "a16b7182",
   "metadata": {},
   "outputs": [],
   "source": [
    "print_insights(reg, X_train, y_train, \"Train\")\n",
    "print_insights(reg, X_test, y_test, \"Test\")"
   ]
  },
  {
   "cell_type": "code",
   "execution_count": null,
   "id": "a73216a0",
   "metadata": {},
   "outputs": [],
   "source": [
    "save_model(reg, 'saved_models/LinearRegression.sav')"
   ]
  },
  {
   "cell_type": "markdown",
   "id": "2a7e1eb8",
   "metadata": {},
   "source": [
    "with open('saved_models/LinearRegression.sav', 'rb') as f:\n",
    "   loaded_model = pickle.load(f)\n",
    "diff = loaded_model.predict(X_test) - reg.predict(X_test)\n",
    "assert np.abs(np.sum(diff)) < 1e-3"
   ]
  },
  {
   "cell_type": "code",
   "execution_count": null,
   "id": "050600b6",
   "metadata": {},
   "outputs": [],
   "source": [
    "print(\"Fitting ElasticNet\")\n",
    "reg = ElasticNet().fit(X_train, y_train)"
   ]
  },
  {
   "cell_type": "code",
   "execution_count": null,
   "id": "43dc446c",
   "metadata": {},
   "outputs": [],
   "source": [
    "print_insights(reg, X_train, y_train, \"Train\")\n",
    "print_insights(reg, X_test, y_test, \"Test\")"
   ]
  },
  {
   "cell_type": "code",
   "execution_count": null,
   "id": "802cf77a",
   "metadata": {},
   "outputs": [],
   "source": [
    "save_model(reg, 'saved_models/ElasticNet.sav')"
   ]
  },
  {
   "cell_type": "code",
   "execution_count": null,
   "id": "4e2b96d2",
   "metadata": {},
   "outputs": [],
   "source": [
    "print(\"Fitting DecisionTreeRegressor\")\n",
    "reg = DecisionTreeRegressor().fit(X_train, y_train)"
   ]
  },
  {
   "cell_type": "code",
   "execution_count": null,
   "id": "2baa4855",
   "metadata": {},
   "outputs": [],
   "source": [
    "print_insights(reg, X_train, y_train, \"Train\")\n",
    "print_insights(reg, X_test, y_test, \"Test\")"
   ]
  },
  {
   "cell_type": "code",
   "execution_count": null,
   "id": "b3c398d9",
   "metadata": {},
   "outputs": [],
   "source": [
    "save_model(reg, 'saved_models/DecisionTreeRegessor.sav')"
   ]
  },
  {
   "cell_type": "code",
   "execution_count": null,
   "id": "8ba8a951",
   "metadata": {},
   "outputs": [],
   "source": [
    "print(\"Fitting RandomForestRegressor\")\n",
    "reg = RandomForestRegressor(n_estimators=10).fit(X_train, y_train)"
   ]
  },
  {
   "cell_type": "code",
   "execution_count": null,
   "id": "9fbf77d1",
   "metadata": {},
   "outputs": [],
   "source": [
    "print_insights(reg, X_train, y_train, \"Train\")\n",
    "print_insights(reg, X_test, y_test, \"Test\")"
   ]
  },
  {
   "cell_type": "code",
   "execution_count": null,
   "id": "283459f4",
   "metadata": {},
   "outputs": [],
   "source": [
    "save_model(reg, 'saved_models/RandomForestRegressor.sav')"
   ]
  },
  {
   "cell_type": "code",
   "execution_count": null,
   "id": "95ce5832",
   "metadata": {},
   "outputs": [],
   "source": [
    "# print(\"Fitting SVR\")\n",
    "# reg = SVR().fit(X_train, y_train)"
   ]
  },
  {
   "cell_type": "code",
   "execution_count": null,
   "id": "6ad4c09f",
   "metadata": {},
   "outputs": [],
   "source": [
    "# print_insights(reg, X_train, y_train, \"Train\")\n",
    "# print_insights(reg, X_test, y_test, \"Test\")"
   ]
  },
  {
   "cell_type": "code",
   "execution_count": null,
   "id": "4096ade2",
   "metadata": {},
   "outputs": [],
   "source": [
    "# save_model(reg, 'saved_models/SVR.sav')"
   ]
  },
  {
   "cell_type": "markdown",
   "id": "c6d5c66d",
   "metadata": {},
   "source": [
    "# Models with PCA"
   ]
  },
  {
   "cell_type": "code",
   "execution_count": null,
   "id": "f57b7025",
   "metadata": {},
   "outputs": [],
   "source": [
    "svd = TruncatedSVD(n_components=512)\n",
    "X_train_PCA = svd.fit_transform(X_train)\n",
    "print(\"Fit PCA\")\n",
    "X_test_PCA = svd.transform(X_test)\n",
    "print(f\"PCA explaination: {np.sum(svd.explained_variance_ratio_)}\")"
   ]
  },
  {
   "cell_type": "code",
   "execution_count": null,
   "id": "5ec24074",
   "metadata": {},
   "outputs": [],
   "source": [
    "with open('saved_models/PCA.sav', 'rb') as f:\n",
    "    svd = pickle.load(f)\n",
    "X_train_PCA = svd.transform(X_train)\n",
    "X_test_PCA = svd.transform(X_test)"
   ]
  },
  {
   "cell_type": "code",
   "execution_count": null,
   "id": "4d144a25",
   "metadata": {},
   "outputs": [],
   "source": [
    "save_model(svd, 'saved_models/PCA.sav')"
   ]
  },
  {
   "cell_type": "code",
   "execution_count": null,
   "id": "cc99070d",
   "metadata": {},
   "outputs": [],
   "source": [
    "print(\"Fitting linear regression\")\n",
    "reg = LinearRegression().fit(X_train_PCA, y_train)"
   ]
  },
  {
   "cell_type": "code",
   "execution_count": null,
   "id": "8cf9af5f",
   "metadata": {},
   "outputs": [],
   "source": [
    "print_insights(reg, X_train_PCA, y_train, \"Train\")\n",
    "print_insights(reg, X_test_PCA, y_test, \"Test\")"
   ]
  },
  {
   "cell_type": "code",
   "execution_count": null,
   "id": "d06a669b",
   "metadata": {},
   "outputs": [],
   "source": [
    "save_model(reg, 'saved_models/LinearRegressionPCA.sav')"
   ]
  },
  {
   "cell_type": "code",
   "execution_count": null,
   "id": "70764243",
   "metadata": {},
   "outputs": [],
   "source": [
    "print(\"Fitting ElasticNet\")\n",
    "reg = ElasticNet().fit(X_train_PCA, y_train)"
   ]
  },
  {
   "cell_type": "code",
   "execution_count": null,
   "id": "ad8ba62d",
   "metadata": {},
   "outputs": [],
   "source": [
    "print_insights(reg, X_train_PCA, y_train, \"Train\")\n",
    "print_insights(reg, X_test_PCA, y_test, \"Test\")"
   ]
  },
  {
   "cell_type": "code",
   "execution_count": null,
   "id": "09237be3",
   "metadata": {},
   "outputs": [],
   "source": [
    "save_model(reg, 'saved_models/ElasticNetPCA.sav')"
   ]
  },
  {
   "cell_type": "code",
   "execution_count": null,
   "id": "83c4591a",
   "metadata": {},
   "outputs": [],
   "source": [
    "print(\"Fitting DecisionTreeRegression\")\n",
    "reg = DecisionTreeRegressor().fit(X_train_PCA, y_train)"
   ]
  },
  {
   "cell_type": "code",
   "execution_count": null,
   "id": "4da32dc5",
   "metadata": {},
   "outputs": [],
   "source": [
    "print_insights(reg, X_train_PCA, y_train, \"Train\")\n",
    "print_insights(reg, X_test_PCA, y_test, \"Test\")"
   ]
  },
  {
   "cell_type": "code",
   "execution_count": null,
   "id": "11f0b47d",
   "metadata": {},
   "outputs": [],
   "source": [
    "save_model(reg, 'saved_models/DecisionTreeRegessorPCA.sav')"
   ]
  },
  {
   "cell_type": "code",
   "execution_count": null,
   "id": "5ddfd423",
   "metadata": {},
   "outputs": [],
   "source": [
    "print(\"Fitting RandomForestRegressorPCA\")\n",
    "reg = RandomForestRegressor(n_estimators=10).fit(X_train_PCA, y_train)"
   ]
  },
  {
   "cell_type": "code",
   "execution_count": null,
   "id": "68b73299",
   "metadata": {},
   "outputs": [],
   "source": [
    "print_insights(reg, X_train_PCA, y_train, \"Train\")\n",
    "print_insights(reg, X_test_PCA, y_test, \"Test\")"
   ]
  },
  {
   "cell_type": "code",
   "execution_count": null,
   "id": "be1e0d69",
   "metadata": {},
   "outputs": [],
   "source": [
    "save_model(reg, 'saved_models/RandomForestRegressorPCA.sav')"
   ]
  },
  {
   "cell_type": "code",
   "execution_count": null,
   "id": "ba343ca1",
   "metadata": {},
   "outputs": [],
   "source": [
    "# print(\"Fitting SVR\")\n",
    "# reg = SVR().fit(X_train_PCA, y_train)"
   ]
  },
  {
   "cell_type": "code",
   "execution_count": null,
   "id": "e02bb4d3",
   "metadata": {},
   "outputs": [],
   "source": [
    "# print_insights(reg, X_train_PCA, y_train, \"Train\")\n",
    "# print_insights(reg, X_test_PCA, y_test, \"Test\")"
   ]
  },
  {
   "cell_type": "code",
   "execution_count": null,
   "id": "bf3cffae",
   "metadata": {},
   "outputs": [],
   "source": [
    "# save_model(reg, 'saved_models/SVR.sav')"
   ]
  }
 ],
 "metadata": {
  "jupytext": {
   "cell_metadata_filter": "-all",
   "notebook_metadata_filter": "-all",
   "text_representation": {
    "extension": ".py",
    "format_name": "light"
   }
  },
  "kernelspec": {
   "display_name": "Python 3",
   "language": "python",
   "name": "python3"
  },
  "language_info": {
   "codemirror_mode": {
    "name": "ipython",
    "version": 3
   },
   "file_extension": ".py",
   "mimetype": "text/x-python",
   "name": "python",
   "nbconvert_exporter": "python",
   "pygments_lexer": "ipython3",
   "version": "3.7.10"
  }
 },
 "nbformat": 4,
 "nbformat_minor": 5
}

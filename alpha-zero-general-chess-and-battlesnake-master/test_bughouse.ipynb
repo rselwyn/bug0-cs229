{
 "cells": [
  {
   "cell_type": "code",
   "execution_count": 1,
   "metadata": {},
   "outputs": [],
   "source": [
    "import Arena\n",
    "from utils import *\n",
    "\n",
    "from bughousepy.BughouseGame import BughouseGame\n",
    "from bughousepy.BughousePlayers import RandomPlayer, MinimaxBughousePlayer, LazyMinimaxBughousePlayer, NNBughousePlayer, SupervisedPlayer"
   ]
  },
  {
   "cell_type": "code",
   "execution_count": 2,
   "metadata": {},
   "outputs": [],
   "source": [
    "import numpy as np\n",
    "# np.random.seed(0)\n",
    "\n",
    "import cProfile, pstats\n",
    "pr = cProfile.Profile()\n",
    "\n",
    "def profile(f):\n",
    "    pr.enable()\n",
    "    f()\n",
    "    pr.disable()\n",
    "    stats = pstats.Stats(pr).strip_dirs().sort_stats('cumtime')\n",
    "    stats.print_stats(30)"
   ]
  },
  {
   "cell_type": "code",
   "execution_count": 3,
   "metadata": {},
   "outputs": [],
   "source": [
    "game = BughouseGame()"
   ]
  },
  {
   "cell_type": "code",
   "execution_count": 4,
   "metadata": {},
   "outputs": [],
   "source": [
    "rp = RandomPlayer(game=game)\n",
    "eng = LazyMinimaxBughousePlayer(depth=1)\n",
    "# n1p = NNBughousePlayer(game=game, numMCTSSims=5, filename='checkpoint_25.pth.tar')"
   ]
  },
  {
   "cell_type": "code",
   "execution_count": 5,
   "metadata": {},
   "outputs": [],
   "source": [
    "sp = SupervisedPlayer(filename=r'..\\supervised_learning\\model\\linear_regression\\saved_models\\LinearRegression.sav')"
   ]
  },
  {
   "cell_type": "code",
   "execution_count": null,
   "metadata": {},
   "outputs": [],
   "source": [
    "# Supervised vs Random\n",
    "arena = Arena.Arena(sp, eng, game, display=lambda board: game.display(board, visualize=False, string_rep=True, result=True))\n",
    "print(arena.playGames(20, verbose=False, switch=False))"
   ]
  },
  {
   "cell_type": "code",
   "execution_count": 5,
   "metadata": {},
   "outputs": [
    {
     "name": "stderr",
     "output_type": "stream",
     "text": [
      "Arena.playGames (1): 100%|█████████████████████████████████████████████████████████████| 20/20 [01:15<00:00,  3.77s/it]\n"
     ]
    },
    {
     "name": "stdout",
     "output_type": "stream",
     "text": [
      "LinearRegression vs Random (19, 1, 0)\n"
     ]
    },
    {
     "name": "stderr",
     "output_type": "stream",
     "text": [
      "Arena.playGames (1): 100%|█████████████████████████████████████████████████████████████| 20/20 [01:46<00:00,  5.31s/it]\n"
     ]
    },
    {
     "name": "stdout",
     "output_type": "stream",
     "text": [
      "LinearRegression vs Engine (0, 20, 0)\n"
     ]
    },
    {
     "name": "stderr",
     "output_type": "stream",
     "text": [
      "Arena.playGames (1): 100%|█████████████████████████████████████████████████████████████| 20/20 [01:14<00:00,  3.72s/it]\n"
     ]
    },
    {
     "name": "stdout",
     "output_type": "stream",
     "text": [
      "LinearRegression vs ElasticNet (20, 0, 0)\n"
     ]
    },
    {
     "name": "stderr",
     "output_type": "stream",
     "text": [
      "Arena.playGames (1): 100%|█████████████████████████████████████████████████████████████| 20/20 [04:31<00:00, 13.56s/it]\n"
     ]
    },
    {
     "name": "stdout",
     "output_type": "stream",
     "text": [
      "LinearRegression vs DecisionTreeRegessor (20, 0, 0)\n"
     ]
    },
    {
     "name": "stderr",
     "output_type": "stream",
     "text": [
      "Arena.playGames (1): 100%|█████████████████████████████████████████████████████████████| 20/20 [04:52<00:00, 14.62s/it]\n"
     ]
    },
    {
     "name": "stdout",
     "output_type": "stream",
     "text": [
      "LinearRegression vs RandomForestRegressor (20, 0, 0)\n"
     ]
    },
    {
     "name": "stderr",
     "output_type": "stream",
     "text": [
      "Arena.playGames (1): 100%|█████████████████████████████████████████████████████████████| 20/20 [11:17<00:00, 33.86s/it]\n"
     ]
    },
    {
     "name": "stdout",
     "output_type": "stream",
     "text": [
      "ElasticNet vs Random (0, 17, 3)\n"
     ]
    },
    {
     "name": "stderr",
     "output_type": "stream",
     "text": [
      "Arena.playGames (1): 100%|█████████████████████████████████████████████████████████████| 20/20 [00:44<00:00,  2.22s/it]\n"
     ]
    },
    {
     "name": "stdout",
     "output_type": "stream",
     "text": [
      "ElasticNet vs Engine (0, 20, 0)\n"
     ]
    },
    {
     "name": "stderr",
     "output_type": "stream",
     "text": [
      "Arena.playGames (1): 100%|█████████████████████████████████████████████████████████████| 20/20 [04:47<00:00, 14.40s/it]\n"
     ]
    },
    {
     "name": "stdout",
     "output_type": "stream",
     "text": [
      "ElasticNet vs DecisionTreeRegessor (0, 0, 20)\n"
     ]
    },
    {
     "name": "stderr",
     "output_type": "stream",
     "text": [
      "Arena.playGames (1): 100%|█████████████████████████████████████████████████████████████| 20/20 [02:49<00:00,  8.47s/it]\n"
     ]
    },
    {
     "name": "stdout",
     "output_type": "stream",
     "text": [
      "ElasticNet vs RandomForestRegressor (0, 0, 20)\n"
     ]
    },
    {
     "name": "stderr",
     "output_type": "stream",
     "text": [
      "Arena.playGames (1): 100%|█████████████████████████████████████████████████████████████| 20/20 [08:47<00:00, 26.36s/it]\n"
     ]
    },
    {
     "name": "stdout",
     "output_type": "stream",
     "text": [
      "DecisionTreeRegessor vs Random (0, 16, 4)\n"
     ]
    },
    {
     "name": "stderr",
     "output_type": "stream",
     "text": [
      "Arena.playGames (1): 100%|█████████████████████████████████████████████████████████████| 20/20 [01:04<00:00,  3.24s/it]\n"
     ]
    },
    {
     "name": "stdout",
     "output_type": "stream",
     "text": [
      "DecisionTreeRegessor vs Engine (0, 20, 0)\n"
     ]
    },
    {
     "name": "stderr",
     "output_type": "stream",
     "text": [
      "Arena.playGames (1): 100%|█████████████████████████████████████████████████████████████| 20/20 [01:46<00:00,  5.30s/it]\n"
     ]
    },
    {
     "name": "stdout",
     "output_type": "stream",
     "text": [
      "DecisionTreeRegessor vs RandomForestRegressor (0, 20, 0)\n"
     ]
    },
    {
     "name": "stderr",
     "output_type": "stream",
     "text": [
      "Arena.playGames (1): 100%|█████████████████████████████████████████████████████████████| 20/20 [03:24<00:00, 10.22s/it]\n"
     ]
    },
    {
     "name": "stdout",
     "output_type": "stream",
     "text": [
      "RandomForestRegressor vs Random (11, 7, 2)\n"
     ]
    },
    {
     "name": "stderr",
     "output_type": "stream",
     "text": [
      "Arena.playGames (1): 100%|█████████████████████████████████████████████████████████████| 20/20 [01:11<00:00,  3.55s/it]"
     ]
    },
    {
     "name": "stdout",
     "output_type": "stream",
     "text": [
      "RandomForestRegressor vs Engine (0, 20, 0)\n"
     ]
    },
    {
     "name": "stderr",
     "output_type": "stream",
     "text": [
      "\n"
     ]
    }
   ],
   "source": [
    "model_names = ['LinearRegression', 'ElasticNet', 'DecisionTreeRegessor', 'RandomForestRegressor']\n",
    "done = set()\n",
    "for model_name in model_names:\n",
    "    sp = SupervisedPlayer(filename=r'..\\supervised_learning\\model\\linear_regression\\saved_models\\{}.sav'.format(model_name), starts=True)\n",
    "    \n",
    "    arena = Arena.Arena(sp, rp, game, display=lambda board: game.display(board, visualize=False, string_rep=True, result=True))\n",
    "    print(f\"{model_name} vs Random\", arena.playGames(20, verbose=False, switch=False))\n",
    "    \n",
    "    arena = Arena.Arena(sp, eng, game, display=lambda board: game.display(board, visualize=False, string_rep=True, result=True))\n",
    "    print(f\"{model_name} vs Engine\", arena.playGames(20, verbose=False, switch=False))\n",
    "    \n",
    "    for model_name_2 in model_names:\n",
    "        if model_name_2 not in done and model_name != model_name_2:\n",
    "            sp2 = SupervisedPlayer(filename=r'..\\supervised_learning\\model\\linear_regression\\saved_models\\{}.sav'.format(model_name_2), starts=False)\n",
    "    \n",
    "            arena = Arena.Arena(sp, sp2, game, display=lambda board: game.display(board, visualize=False, string_rep=True, result=True))\n",
    "            print(f\"{model_name} vs {model_name_2}\", arena.playGames(20, verbose=False, switch=False))\n",
    "    done.add(model_name)\n",
    "    "
   ]
  },
  {
   "cell_type": "code",
   "execution_count": null,
   "metadata": {},
   "outputs": [],
   "source": [
    "# NNSP vs Random\n",
    "arena = Arena.Arena(n1p, rp, game, display=lambda board: game.display(board, visualize=False, string_rep=True, result=True))\n",
    "\n",
    "print(arena.playGames(100, verbose=False, switch=True))"
   ]
  },
  {
   "cell_type": "code",
   "execution_count": null,
   "metadata": {},
   "outputs": [],
   "source": [
    "# NNSP vs MM\n",
    "arena = Arena.Arena(n1p, eng, game, display=lambda board: game.display(board, visualize=False, string_rep=True, result=True))\n",
    "\n",
    "print(arena.playGames(100, verbose=False, switch=True))\n",
    "\n",
    "# print(arena.playGames(100, verbose=False, switch=False, invert=True))\n",
    "\n",
    "# profile(lambda: print(arena.playGames(10, verbose=False, switch=False)))"
   ]
  }
 ],
 "metadata": {
  "anaconda-cloud": {},
  "kernelspec": {
   "display_name": "Python 3 (ipykernel)",
   "language": "python",
   "name": "python3"
  },
  "language_info": {
   "codemirror_mode": {
    "name": "ipython",
    "version": 3
   },
   "file_extension": ".py",
   "mimetype": "text/x-python",
   "name": "python",
   "nbconvert_exporter": "python",
   "pygments_lexer": "ipython3",
   "version": "3.8.12"
  }
 },
 "nbformat": 4,
 "nbformat_minor": 4
}
